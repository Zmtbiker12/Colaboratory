{
  "nbformat": 4,
  "nbformat_minor": 0,
  "metadata": {
    "colab": {
      "provenance": [],
      "authorship_tag": "ABX9TyOPZL/N4Mn0D+EF+WGOnEQf",
      "include_colab_link": true
    },
    "kernelspec": {
      "name": "python3",
      "display_name": "Python 3"
    },
    "language_info": {
      "name": "python"
    }
  },
  "cells": [
    {
      "cell_type": "markdown",
      "metadata": {
        "id": "view-in-github",
        "colab_type": "text"
      },
      "source": [
        "<a href=\"https://colab.research.google.com/github/Zmtbiker12/Colaboratory/blob/main/Part_b.ipynb\" target=\"_parent\"><img src=\"https://colab.research.google.com/assets/colab-badge.svg\" alt=\"Open In Colab\"/></a>"
      ]
    },
    {
      "cell_type": "code",
      "source": [
        "import numpy as np\n",
        "from plotly.subplots import make_subplots\n",
        "from scipy.optimize import root\n",
        "# Initial libraries and functions"
      ],
      "metadata": {
        "id": "pzdBDU4d--Op"
      },
      "execution_count": 1,
      "outputs": []
    },
    {
      "cell_type": "code",
      "source": [
        "A= 8.14019\n",
        "B= 1810.94\n",
        "C=244.485\n",
        "def Pvap(T):\n",
        "    return 10**(A - B/((T-273.15) + C))*101325/760\n",
        "\n",
        "R = 8.314\n",
        "Vtot = 0.1\n",
        "Vvap = Vtot - (1/1000)\n",
        "Ti = 298\n",
        "Pi = 101325\n",
        "nair = (Pi * Vvap)/(R * Ti)\n",
        "Pf =200e3\n",
        "\n",
        "#Set variables, the saturation vapor pressure of water function, and moles of air"
      ],
      "metadata": {
        "id": "_UpiBYpG_GoB"
      },
      "execution_count": null,
      "outputs": []
    },
    {
      "cell_type": "code",
      "source": [
        "def B2_f(T):\n",
        "    return Pvap(T) + nair * T /(R*Vvap) - Pf\n",
        "\n",
        "# returns the partial presure equation, set to 0 to solve for tempurature"
      ],
      "metadata": {
        "id": "1UjcnucnN0r3"
      },
      "execution_count": null,
      "outputs": []
    },
    {
      "cell_type": "code",
      "source": [
        "root(B2_f, 350)\n",
        "\n",
        "# Solves for T"
      ],
      "metadata": {
        "colab": {
          "base_uri": "https://localhost:8080/"
        },
        "id": "gfXKxkz0YTpk",
        "outputId": "8cbb6024-ec00-43c2-948f-9fea18035563"
      },
      "execution_count": null,
      "outputs": [
        {
          "output_type": "execute_result",
          "data": {
            "text/plain": [
              "    fjac: array([[-1.]])\n",
              "     fun: array([2.91038305e-11])\n",
              " message: 'The solution converged.'\n",
              "    nfev: 12\n",
              "     qtf: array([1.37177994e-06])\n",
              "       r: array([-6221.25199552])\n",
              "  status: 1\n",
              " success: True\n",
              "       x: array([393.16516465])"
            ]
          },
          "metadata": {},
          "execution_count": 8
        }
      ]
    },
    {
      "cell_type": "code",
      "source": [
        "nwd=0.3 #desired moles of water\n",
        "def B4_f(vec):\n",
        "  Vtot, T = vec\n",
        "  Vvap = Vtot - (1/1000) #1kg / density of water\n",
        "  nair = (Pi * Vvap)/(R * Ti)\n",
        "\n",
        "  return ((Pvap(T) * Vvap)/(R * T) - nwd, Pvap(T) + nair * T /(R*Vvap) - Pf)\n",
        "\n",
        "  # returns the total volume, and the tempurature"
      ],
      "metadata": {
        "id": "0MffQCN4Ph1y"
      },
      "execution_count": null,
      "outputs": []
    },
    {
      "cell_type": "code",
      "source": [
        "root(B4_f, [0.1, 300])\n",
        "\n",
        "# Solves Vtot and T"
      ],
      "metadata": {
        "colab": {
          "base_uri": "https://localhost:8080/"
        },
        "id": "dmW_f3KSQ1MI",
        "outputId": "cf1268a9-4719-445a-fd7c-c417aea0093f"
      },
      "execution_count": null,
      "outputs": [
        {
          "output_type": "execute_result",
          "data": {
            "text/plain": [
              "    fjac: array([[-9.99999999e-01, -3.59336953e-05],\n",
              "       [ 3.59336953e-05, -9.99999999e-01]])\n",
              "     fun: array([ 1.25216654e-06, -1.29221007e-08])\n",
              " message: 'The solution converged.'\n",
              "    nfev: 30\n",
              "     qtf: array([ 7.93790222e-03, -8.36757160e-05])\n",
              "       r: array([  -60.38726499,  1920.40118764, -6241.54522962])\n",
              "  status: 1\n",
              " success: True\n",
              "       x: array([5.95105986e-03, 3.93165165e+02])"
            ]
          },
          "metadata": {},
          "execution_count": 27
        }
      ]
    },
    {
      "cell_type": "code",
      "source": [],
      "metadata": {
        "id": "tRMvKC0eQ_Yk"
      },
      "execution_count": null,
      "outputs": []
    }
  ]
}
