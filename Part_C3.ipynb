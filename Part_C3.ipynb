{
  "nbformat": 4,
  "nbformat_minor": 0,
  "metadata": {
    "colab": {
      "provenance": [],
      "authorship_tag": "ABX9TyMiDULPtKZIxFjEVRc5IZHE",
      "include_colab_link": true
    },
    "kernelspec": {
      "name": "python3",
      "display_name": "Python 3"
    },
    "language_info": {
      "name": "python"
    }
  },
  "cells": [
    {
      "cell_type": "markdown",
      "metadata": {
        "id": "view-in-github",
        "colab_type": "text"
      },
      "source": [
        "<a href=\"https://colab.research.google.com/github/Zmtbiker12/Colaboratory/blob/main/Part_C3.ipynb\" target=\"_parent\"><img src=\"https://colab.research.google.com/assets/colab-badge.svg\" alt=\"Open In Colab\"/></a>"
      ]
    },
    {
      "cell_type": "code",
      "source": [
        "import numpy as np\n",
        "from plotly.subplots import make_subplots\n",
        "from scipy.optimize import minimize"
      ],
      "metadata": {
        "id": "DvLhyfHuB1d3"
      },
      "execution_count": 58,
      "outputs": []
    },
    {
      "cell_type": "code",
      "source": [
        "PvapD = np.loadtxt('WaterVaporPressure_data_c.csv', delimiter = ',')"
      ],
      "metadata": {
        "id": "UPUCfsPRDgmy"
      },
      "execution_count": 59,
      "outputs": []
    },
    {
      "cell_type": "code",
      "source": [
        "T, Pexp = PvapD.T\n",
        "logP = np.log10(Pexp)"
      ],
      "metadata": {
        "id": "JmpmIRpoDpCo"
      },
      "execution_count": 61,
      "outputs": []
    },
    {
      "cell_type": "code",
      "source": [
        "def antsse_log(vec):\n",
        "  a,b,c = vec\n",
        "  model = (a-b/(T+c))\n",
        "  return np.sum((model - logP)**2)"
      ],
      "metadata": {
        "id": "FVPIpvPkUlPn"
      },
      "execution_count": 83,
      "outputs": []
    },
    {
      "cell_type": "code",
      "source": [
        "antsse_min = minimize(antsse_log, (10.21, 2114., 0.)).x "
      ],
      "metadata": {
        "id": "1i7QyAH6Un6p"
      },
      "execution_count": 84,
      "outputs": []
    },
    {
      "cell_type": "code",
      "source": [
        "antsse_min"
      ],
      "metadata": {
        "colab": {
          "base_uri": "https://localhost:8080/"
        },
        "id": "L6Z76PtHUso5",
        "outputId": "8dbc1ad8-04e0-4774-c56d-4253ae3a4ab3"
      },
      "execution_count": 85,
      "outputs": [
        {
          "output_type": "execute_result",
          "data": {
            "text/plain": [
              "array([  10.20868528, 1756.3512831 ,  -36.02823926])"
            ]
          },
          "metadata": {},
          "execution_count": 85
        }
      ]
    },
    {
      "cell_type": "code",
      "source": [
        "A = np.c_[T, -logP, np.ones_like(T)]"
      ],
      "metadata": {
        "id": "VLo824uyDrem"
      },
      "execution_count": 64,
      "outputs": []
    },
    {
      "cell_type": "code",
      "source": [
        "a,c,d = np.linalg.solve(A.T@A, A.T@(T*logP))"
      ],
      "metadata": {
        "id": "nb0XyR-HEYRG"
      },
      "execution_count": 69,
      "outputs": []
    },
    {
      "cell_type": "code",
      "source": [
        "b = a*c - d"
      ],
      "metadata": {
        "id": "_QqW6meGE2Hl"
      },
      "execution_count": 72,
      "outputs": []
    },
    {
      "cell_type": "code",
      "source": [
        "a,b,c"
      ],
      "metadata": {
        "colab": {
          "base_uri": "https://localhost:8080/"
        },
        "id": "rVUreSuyFQY4",
        "outputId": "12a952a7-e5ec-4990-b653-cebdaa2d54da"
      },
      "execution_count": 73,
      "outputs": [
        {
          "output_type": "execute_result",
          "data": {
            "text/plain": [
              "(10.227991116488935, 1771.955100134423, -34.378925933844585)"
            ]
          },
          "metadata": {},
          "execution_count": 73
        }
      ]
    },
    {
      "cell_type": "code",
      "source": [],
      "metadata": {
        "id": "8inD1c_0FRPx"
      },
      "execution_count": null,
      "outputs": []
    }
  ]
}