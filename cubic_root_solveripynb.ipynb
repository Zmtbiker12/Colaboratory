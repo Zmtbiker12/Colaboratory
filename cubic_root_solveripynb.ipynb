{
  "nbformat": 4,
  "nbformat_minor": 0,
  "metadata": {
    "colab": {
      "provenance": [],
      "authorship_tag": "ABX9TyMAqQJib/OVeBvPFJaFZWKJ",
      "include_colab_link": true
    },
    "kernelspec": {
      "name": "python3",
      "display_name": "Python 3"
    },
    "language_info": {
      "name": "python"
    }
  },
  "cells": [
    {
      "cell_type": "markdown",
      "metadata": {
        "id": "view-in-github",
        "colab_type": "text"
      },
      "source": [
        "<a href=\"https://colab.research.google.com/github/Zmtbiker12/Colaboratory/blob/main/cubic_root_solveripynb.ipynb\" target=\"_parent\"><img src=\"https://colab.research.google.com/assets/colab-badge.svg\" alt=\"Open In Colab\"/></a>"
      ]
    },
    {
      "cell_type": "code",
      "source": [
        "import numpy as np"
      ],
      "metadata": {
        "id": "diygdb1KQ2ZY"
      },
      "execution_count": 3,
      "outputs": []
    },
    {
      "cell_type": "code",
      "execution_count": 4,
      "metadata": {
        "id": "TWoOXZcRQyvo"
      },
      "outputs": [],
      "source": [
        "def cubic_roots(a,b,c):\n",
        "  Q = (a**2-3*b)/9\n",
        "  R = (2*a**3 - 9*a*b + 27*c)/54\n",
        "  if R**2 < Q**3:\n",
        "    theta = np.arccos(R/Q**1.5)\n",
        "    return -2*np.sqrt(Q)*np.cos(np.array([theta/3, (theta-2*np.pi)/3, (theta+2*np.pi)/3])) -a/3\n",
        "\n",
        "    #This is if the three roots are real\n",
        "  else:\n",
        "    A = -(R+(R**2-Q**3)**0.5)**(1/3)\n",
        "    B = 0 if A == 0 else Q/A\n",
        "    return (A+B) - a/3\n",
        "\n",
        "    #This is if one or more of the roots are not real\n",
        "\n",
        "# Cardano formula to find the roots of a cubic"
      ]
    },
    {
      "cell_type": "code",
      "source": [
        "z = np.polynomial.Polynomial.fromroots([1,2+2j,2-2j])\n",
        "c = z.coef\n",
        "c.real[2::-1]"
      ],
      "metadata": {
        "id": "V4xU5cXyQ-BI",
        "colab": {
          "base_uri": "https://localhost:8080/"
        },
        "outputId": "2f580fcb-1430-48fa-b3e2-b5882ac7c76a"
      },
      "execution_count": 18,
      "outputs": [
        {
          "output_type": "execute_result",
          "data": {
            "text/plain": [
              "array([-5., 12., -8.])"
            ]
          },
          "metadata": {},
          "execution_count": 18
        }
      ]
    },
    {
      "cell_type": "code",
      "source": [
        "cubic_roots(*c.real[2::-1])"
      ],
      "metadata": {
        "colab": {
          "base_uri": "https://localhost:8080/"
        },
        "id": "81RxCSOaIrHW",
        "outputId": "ad6d2a18-0484-40e1-a108-96acc57eabed"
      },
      "execution_count": 19,
      "outputs": [
        {
          "output_type": "execute_result",
          "data": {
            "text/plain": [
              "1.0"
            ]
          },
          "metadata": {},
          "execution_count": 19
        }
      ]
    },
    {
      "cell_type": "code",
      "source": [],
      "metadata": {
        "id": "FYq24t_xJMot"
      },
      "execution_count": null,
      "outputs": []
    }
  ]
}